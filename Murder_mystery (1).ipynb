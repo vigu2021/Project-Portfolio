{
 "cells": [
  {
   "cell_type": "code",
   "execution_count": 91,
   "id": "4672fdc5-b49f-4290-97a3-13497352c299",
   "metadata": {},
   "outputs": [],
   "source": [
    "import sqlite3"
   ]
  },
  {
   "cell_type": "code",
   "execution_count": 93,
   "id": "464130c7-b4b8-4afa-94c4-e2c024506757",
   "metadata": {},
   "outputs": [
    {
     "name": "stdout",
     "output_type": "stream",
     "text": [
      "The sql extension is already loaded. To reload it, use:\n",
      "  %reload_ext sql\n"
     ]
    }
   ],
   "source": [
    "%load_ext sql"
   ]
  },
  {
   "cell_type": "code",
   "execution_count": 95,
   "id": "c13fb073-fecb-4682-a741-f44bca9d8ab4",
   "metadata": {},
   "outputs": [],
   "source": [
    "%sql sqlite:///sql-murder-mystery.db\n"
   ]
  },
  {
   "cell_type": "code",
   "execution_count": 97,
   "id": "4dfb0327-8a94-4b38-99fe-eaeadd586a1b",
   "metadata": {},
   "outputs": [
    {
     "name": "stdout",
     "output_type": "stream",
     "text": [
      " * sqlite:///sql-murder-mystery.db\n",
      "Done.\n"
     ]
    },
    {
     "data": {
      "text/html": [
       "<table>\n",
       "    <thead>\n",
       "        <tr>\n",
       "            <th>name</th>\n",
       "        </tr>\n",
       "    </thead>\n",
       "    <tbody>\n",
       "        <tr>\n",
       "            <td>crime_scene_report</td>\n",
       "        </tr>\n",
       "        <tr>\n",
       "            <td>drivers_license</td>\n",
       "        </tr>\n",
       "        <tr>\n",
       "            <td>person</td>\n",
       "        </tr>\n",
       "        <tr>\n",
       "            <td>facebook_event_checkin</td>\n",
       "        </tr>\n",
       "        <tr>\n",
       "            <td>interview</td>\n",
       "        </tr>\n",
       "        <tr>\n",
       "            <td>get_fit_now_member</td>\n",
       "        </tr>\n",
       "        <tr>\n",
       "            <td>get_fit_now_check_in</td>\n",
       "        </tr>\n",
       "        <tr>\n",
       "            <td>income</td>\n",
       "        </tr>\n",
       "        <tr>\n",
       "            <td>solution</td>\n",
       "        </tr>\n",
       "    </tbody>\n",
       "</table>"
      ],
      "text/plain": [
       "[('crime_scene_report',),\n",
       " ('drivers_license',),\n",
       " ('person',),\n",
       " ('facebook_event_checkin',),\n",
       " ('interview',),\n",
       " ('get_fit_now_member',),\n",
       " ('get_fit_now_check_in',),\n",
       " ('income',),\n",
       " ('solution',)]"
      ]
     },
     "execution_count": 97,
     "metadata": {},
     "output_type": "execute_result"
    }
   ],
   "source": [
    "%%sql\n",
    "SELECT name FROM sqlite_master WHERE type='table';"
   ]
  },
  {
   "cell_type": "code",
   "execution_count": 99,
   "id": "e2cc58ad-1944-40d5-bbb9-99eb6321c5e6",
   "metadata": {},
   "outputs": [
    {
     "name": "stdout",
     "output_type": "stream",
     "text": [
      " * sqlite:///sql-murder-mystery.db\n",
      "Done.\n"
     ]
    },
    {
     "data": {
      "text/html": [
       "<table>\n",
       "    <thead>\n",
       "        <tr>\n",
       "            <th>type</th>\n",
       "            <th>name</th>\n",
       "            <th>tbl_name</th>\n",
       "            <th>rootpage</th>\n",
       "            <th>sql</th>\n",
       "        </tr>\n",
       "    </thead>\n",
       "    <tbody>\n",
       "        <tr>\n",
       "            <td>table</td>\n",
       "            <td>crime_scene_report</td>\n",
       "            <td>crime_scene_report</td>\n",
       "            <td>2</td>\n",
       "            <td>CREATE TABLE crime_scene_report (<br>        date integer,<br>        type text,<br>        description text,<br>        city text<br>    )</td>\n",
       "        </tr>\n",
       "        <tr>\n",
       "            <td>table</td>\n",
       "            <td>drivers_license</td>\n",
       "            <td>drivers_license</td>\n",
       "            <td>3</td>\n",
       "            <td>CREATE TABLE drivers_license (<br>        id integer PRIMARY KEY,<br>        age integer,<br>        height integer,<br>        eye_color text,<br>        hair_color text,<br>        gender text,<br>        plate_number text,<br>        car_make text,<br>        car_model text<br>    )</td>\n",
       "        </tr>\n",
       "        <tr>\n",
       "            <td>table</td>\n",
       "            <td>person</td>\n",
       "            <td>person</td>\n",
       "            <td>4</td>\n",
       "            <td>CREATE TABLE person (<br>        id integer PRIMARY KEY,<br>        name text,<br>        license_id integer,<br>        address_number integer,<br>        address_street_name text,<br>        ssn integer,<br>        FOREIGN KEY (license_id) REFERENCES drivers_license(id)<br>    )</td>\n",
       "        </tr>\n",
       "        <tr>\n",
       "            <td>table</td>\n",
       "            <td>facebook_event_checkin</td>\n",
       "            <td>facebook_event_checkin</td>\n",
       "            <td>5</td>\n",
       "            <td>CREATE TABLE facebook_event_checkin (<br>        person_id integer,<br>        event_id integer,<br>        event_name text,<br>        date integer,<br>        FOREIGN KEY (person_id) REFERENCES person(id)<br>    )</td>\n",
       "        </tr>\n",
       "        <tr>\n",
       "            <td>table</td>\n",
       "            <td>interview</td>\n",
       "            <td>interview</td>\n",
       "            <td>6</td>\n",
       "            <td>CREATE TABLE interview (<br>        person_id integer,<br>        transcript text,<br>        FOREIGN KEY (person_id) REFERENCES person(id)<br>    )</td>\n",
       "        </tr>\n",
       "        <tr>\n",
       "            <td>table</td>\n",
       "            <td>get_fit_now_member</td>\n",
       "            <td>get_fit_now_member</td>\n",
       "            <td>7</td>\n",
       "            <td>CREATE TABLE get_fit_now_member (<br>        id text PRIMARY KEY,<br>        person_id integer,<br>        name text,<br>        membership_start_date integer,<br>        membership_status text,<br>        FOREIGN KEY (person_id) REFERENCES person(id)<br>    )</td>\n",
       "        </tr>\n",
       "        <tr>\n",
       "            <td>table</td>\n",
       "            <td>get_fit_now_check_in</td>\n",
       "            <td>get_fit_now_check_in</td>\n",
       "            <td>9</td>\n",
       "            <td>CREATE TABLE get_fit_now_check_in (<br>        membership_id text,<br>        check_in_date integer,<br>        check_in_time integer,<br>        check_out_time integer,<br>        FOREIGN KEY (membership_id) REFERENCES get_fit_now_member(id)<br>    )</td>\n",
       "        </tr>\n",
       "        <tr>\n",
       "            <td>table</td>\n",
       "            <td>income</td>\n",
       "            <td>income</td>\n",
       "            <td>10</td>\n",
       "            <td>CREATE TABLE income (<br>        ssn integer PRIMARY KEY,<br>        annual_income integer<br>    )</td>\n",
       "        </tr>\n",
       "        <tr>\n",
       "            <td>table</td>\n",
       "            <td>solution</td>\n",
       "            <td>solution</td>\n",
       "            <td>11</td>\n",
       "            <td>CREATE TABLE solution (<br>        user integer,<br>        value text<br>    )</td>\n",
       "        </tr>\n",
       "    </tbody>\n",
       "</table>"
      ],
      "text/plain": [
       "[('table', 'crime_scene_report', 'crime_scene_report', 2, 'CREATE TABLE crime_scene_report (\\n        date integer,\\n        type text,\\n        description text,\\n        city text\\n    )'),\n",
       " ('table', 'drivers_license', 'drivers_license', 3, 'CREATE TABLE drivers_license (\\n        id integer PRIMARY KEY,\\n        age integer,\\n        height integer,\\n        eye_color text,\\n        hair_color text,\\n        gender text,\\n        plate_number text,\\n        car_make text,\\n        car_model text\\n    )'),\n",
       " ('table', 'person', 'person', 4, 'CREATE TABLE person (\\n        id integer PRIMARY KEY,\\n        name text,\\n        license_id integer,\\n        address_number integer,\\n        address_street_name text,\\n        ssn integer,\\n        FOREIGN KEY (license_id) REFERENCES drivers_license(id)\\n    )'),\n",
       " ('table', 'facebook_event_checkin', 'facebook_event_checkin', 5, 'CREATE TABLE facebook_event_checkin (\\n        person_id integer,\\n        event_id integer,\\n        event_name text,\\n        date integer,\\n        FOREIGN KEY (person_id) REFERENCES person(id)\\n    )'),\n",
       " ('table', 'interview', 'interview', 6, 'CREATE TABLE interview (\\n        person_id integer,\\n        transcript text,\\n        FOREIGN KEY (person_id) REFERENCES person(id)\\n    )'),\n",
       " ('table', 'get_fit_now_member', 'get_fit_now_member', 7, 'CREATE TABLE get_fit_now_member (\\n        id text PRIMARY KEY,\\n        person_id integer,\\n        name text,\\n        membership_start_date integer,\\n        membership_status text,\\n        FOREIGN KEY (person_id) REFERENCES person(id)\\n    )'),\n",
       " ('table', 'get_fit_now_check_in', 'get_fit_now_check_in', 9, 'CREATE TABLE get_fit_now_check_in (\\n        membership_id text,\\n        check_in_date integer,\\n        check_in_time integer,\\n        check_out_time integer,\\n        FOREIGN KEY (membership_id) REFERENCES get_fit_now_member(id)\\n    )'),\n",
       " ('table', 'income', 'income', 10, 'CREATE TABLE income (\\n        ssn integer PRIMARY KEY,\\n        annual_income integer\\n    )'),\n",
       " ('table', 'solution', 'solution', 11, 'CREATE TABLE solution (\\n        user integer,\\n        value text\\n    )')]"
      ]
     },
     "execution_count": 99,
     "metadata": {},
     "output_type": "execute_result"
    }
   ],
   "source": [
    "%%sql\n",
    "SELECT * FROM sqlite_master WHERE type='table';"
   ]
  },
  {
   "cell_type": "code",
   "execution_count": 101,
   "id": "650e7543-6db9-43b2-b48c-013c3594a276",
   "metadata": {},
   "outputs": [
    {
     "name": "stdout",
     "output_type": "stream",
     "text": [
      " * sqlite:///sql-murder-mystery.db\n",
      "Done.\n"
     ]
    },
    {
     "data": {
      "text/html": [
       "<table>\n",
       "    <thead>\n",
       "        <tr>\n",
       "            <th>date</th>\n",
       "            <th>type</th>\n",
       "            <th>description</th>\n",
       "            <th>city</th>\n",
       "        </tr>\n",
       "    </thead>\n",
       "    <tbody>\n",
       "        <tr>\n",
       "            <td>20180115</td>\n",
       "            <td>murder</td>\n",
       "            <td>Security footage shows that there were 2 witnesses. The first witness lives at the last house on &quot;Northwestern Dr&quot;. The second witness, named Annabel, lives somewhere on &quot;Franklin Ave&quot;.</td>\n",
       "            <td>SQL City</td>\n",
       "        </tr>\n",
       "    </tbody>\n",
       "</table>"
      ],
      "text/plain": [
       "[(20180115, 'murder', 'Security footage shows that there were 2 witnesses. The first witness lives at the last house on \"Northwestern Dr\". The second witness, named Annabel, lives somewhere on \"Franklin Ave\".', 'SQL City')]"
      ]
     },
     "execution_count": 101,
     "metadata": {},
     "output_type": "execute_result"
    }
   ],
   "source": [
    "%sql SELECT * FROM crime_scene_report where city == 'SQL City' and date = 20180115 and type = 'murder'\n"
   ]
  },
  {
   "cell_type": "markdown",
   "id": "d0ddbe69-6192-48b4-b155-53c89b55355c",
   "metadata": {},
   "source": [
    "## Clue 1 \n",
    " Security footage shows that there were 2 witnesses. The first witness lives at the last house on \"Northwestern Dr\". \n",
    "The second witness, named Annabel, lives somewhere on \"Franklin Ave\".''' \n",
    "\n"
   ]
  },
  {
   "cell_type": "code",
   "execution_count": 105,
   "id": "a1f483e7-b3ee-49a5-9293-8e29f7869d4f",
   "metadata": {},
   "outputs": [
    {
     "name": "stdout",
     "output_type": "stream",
     "text": [
      " * sqlite:///sql-murder-mystery.db\n",
      "Done.\n"
     ]
    },
    {
     "data": {
      "text/html": [
       "<table>\n",
       "    <thead>\n",
       "        <tr>\n",
       "            <th>id</th>\n",
       "            <th>name</th>\n",
       "            <th>license_id</th>\n",
       "            <th>address_number</th>\n",
       "            <th>address_street_name</th>\n",
       "            <th>ssn</th>\n",
       "        </tr>\n",
       "    </thead>\n",
       "    <tbody>\n",
       "        <tr>\n",
       "            <td>14887</td>\n",
       "            <td>Morty Schapiro</td>\n",
       "            <td>118009</td>\n",
       "            <td>4919</td>\n",
       "            <td>Northwestern Dr</td>\n",
       "            <td>111564949</td>\n",
       "        </tr>\n",
       "        <tr>\n",
       "            <td>89906</td>\n",
       "            <td>Kinsey Erickson</td>\n",
       "            <td>510019</td>\n",
       "            <td>309</td>\n",
       "            <td>Northwestern Dr</td>\n",
       "            <td>635287661</td>\n",
       "        </tr>\n",
       "    </tbody>\n",
       "</table>"
      ],
      "text/plain": [
       "[(14887, 'Morty Schapiro', 118009, 4919, 'Northwestern Dr', 111564949),\n",
       " (89906, 'Kinsey Erickson', 510019, 309, 'Northwestern Dr', 635287661)]"
      ]
     },
     "execution_count": 105,
     "metadata": {},
     "output_type": "execute_result"
    }
   ],
   "source": [
    "%%sql\n",
    "SELECT * FROM person \n",
    "WHERE address_street_name LIKE 'Northwestern%' \n",
    "AND (address_number = (SELECT MAX(address_number) FROM person WHERE address_street_name LIKE 'Northwestern%')\n",
    "     OR address_number = (SELECT MIN(address_number) FROM person WHERE address_street_name LIKE 'Northwestern%'))"
   ]
  },
  {
   "cell_type": "markdown",
   "id": "92caf8e0-ad56-48c9-9a6a-353be225c5d3",
   "metadata": {},
   "source": [
    "Could be either these too as there address number largest/smallest and hence living in the 'last house'"
   ]
  },
  {
   "cell_type": "code",
   "execution_count": 109,
   "id": "78342c16-0d91-4ced-802f-e69b9fdc7eae",
   "metadata": {},
   "outputs": [
    {
     "name": "stdout",
     "output_type": "stream",
     "text": [
      " * sqlite:///sql-murder-mystery.db\n",
      "Done.\n"
     ]
    },
    {
     "data": {
      "text/html": [
       "<table>\n",
       "    <thead>\n",
       "        <tr>\n",
       "            <th>id</th>\n",
       "            <th>name</th>\n",
       "            <th>license_id</th>\n",
       "            <th>address_number</th>\n",
       "            <th>address_street_name</th>\n",
       "            <th>ssn</th>\n",
       "        </tr>\n",
       "    </thead>\n",
       "    <tbody>\n",
       "        <tr>\n",
       "            <td>16371</td>\n",
       "            <td>Annabel Miller</td>\n",
       "            <td>490173</td>\n",
       "            <td>103</td>\n",
       "            <td>Franklin Ave</td>\n",
       "            <td>318771143</td>\n",
       "        </tr>\n",
       "    </tbody>\n",
       "</table>"
      ],
      "text/plain": [
       "[(16371, 'Annabel Miller', 490173, 103, 'Franklin Ave', 318771143)]"
      ]
     },
     "execution_count": 109,
     "metadata": {},
     "output_type": "execute_result"
    }
   ],
   "source": [
    "%%sql\n",
    "SELECT * FROM person WHERE name LIKE 'Annabel%' and address_street_name= \"Franklin Ave\""
   ]
  },
  {
   "cell_type": "markdown",
   "id": "edb45aa8-8e61-4682-b8a2-2110d7fb2ba8",
   "metadata": {},
   "source": [
    "## At least 2 of the 3 people have information about the murder"
   ]
  },
  {
   "cell_type": "code",
   "execution_count": 113,
   "id": "55bf1bca-70a9-4f11-b5f3-bea82b98576f",
   "metadata": {},
   "outputs": [
    {
     "name": "stdout",
     "output_type": "stream",
     "text": [
      " * sqlite:///sql-murder-mystery.db\n",
      "Done.\n"
     ]
    },
    {
     "data": {
      "text/html": [
       "<table>\n",
       "    <thead>\n",
       "        <tr>\n",
       "            <th>person_id</th>\n",
       "            <th>transcript</th>\n",
       "        </tr>\n",
       "    </thead>\n",
       "    <tbody>\n",
       "        <tr>\n",
       "            <td>14887</td>\n",
       "            <td>I heard a gunshot and then saw a man run out. He had a &quot;Get Fit Now Gym&quot; bag. The membership number on the bag started with &quot;48Z&quot;. Only gold members have those bags. The man got into a car with a plate that included &quot;H42W&quot;.</td>\n",
       "        </tr>\n",
       "        <tr>\n",
       "            <td>16371</td>\n",
       "            <td>I saw the murder happen, and I recognized the killer from my gym when I was working out last week on January the 9th.</td>\n",
       "        </tr>\n",
       "    </tbody>\n",
       "</table>"
      ],
      "text/plain": [
       "[(14887, 'I heard a gunshot and then saw a man run out. He had a \"Get Fit Now Gym\" bag. The membership number on the bag started with \"48Z\". Only gold members have those bags. The man got into a car with a plate that included \"H42W\".'),\n",
       " (16371, 'I saw the murder happen, and I recognized the killer from my gym when I was working out last week on January the 9th.')]"
      ]
     },
     "execution_count": 113,
     "metadata": {},
     "output_type": "execute_result"
    }
   ],
   "source": [
    "%sql SELECT * FROM Interview WHERE person_id in (14887,89906,16371)"
   ]
  },
  {
   "cell_type": "markdown",
   "id": "c96ce273-09c3-4eed-b156-56f1e33919c1",
   "metadata": {},
   "source": [
    "This probably means 89906 has no idea, it's Morty or Annabel that are the witnesses\n",
    "\n",
    "Other clues\n",
    "\n",
    "- Found that man works a membership at the gym and a Get Fit now member, tag start with 48Z licsence plate \"H42W\"\n",
    "- Annabel works at the gym and last saw him jan 9th\n",
    "\n"
   ]
  },
  {
   "cell_type": "code",
   "execution_count": 117,
   "id": "87b98aa3-9a17-48db-b006-386b4be2f90e",
   "metadata": {},
   "outputs": [
    {
     "name": "stdout",
     "output_type": "stream",
     "text": [
      " * sqlite:///sql-murder-mystery.db\n",
      "Done.\n"
     ]
    },
    {
     "data": {
      "text/html": [
       "<table>\n",
       "    <thead>\n",
       "        <tr>\n",
       "            <th>id</th>\n",
       "            <th>age</th>\n",
       "            <th>height</th>\n",
       "            <th>eye_color</th>\n",
       "            <th>hair_color</th>\n",
       "            <th>gender</th>\n",
       "            <th>plate_number</th>\n",
       "            <th>car_make</th>\n",
       "            <th>car_model</th>\n",
       "        </tr>\n",
       "    </thead>\n",
       "    <tbody>\n",
       "        <tr>\n",
       "            <td>183779</td>\n",
       "            <td>21</td>\n",
       "            <td>65</td>\n",
       "            <td>blue</td>\n",
       "            <td>blonde</td>\n",
       "            <td>female</td>\n",
       "            <td>H42W0X</td>\n",
       "            <td>Toyota</td>\n",
       "            <td>Prius</td>\n",
       "        </tr>\n",
       "        <tr>\n",
       "            <td>423327</td>\n",
       "            <td>30</td>\n",
       "            <td>70</td>\n",
       "            <td>brown</td>\n",
       "            <td>brown</td>\n",
       "            <td>male</td>\n",
       "            <td>0H42W2</td>\n",
       "            <td>Chevrolet</td>\n",
       "            <td>Spark LS</td>\n",
       "        </tr>\n",
       "        <tr>\n",
       "            <td>664760</td>\n",
       "            <td>21</td>\n",
       "            <td>71</td>\n",
       "            <td>black</td>\n",
       "            <td>black</td>\n",
       "            <td>male</td>\n",
       "            <td>4H42WR</td>\n",
       "            <td>Nissan</td>\n",
       "            <td>Altima</td>\n",
       "        </tr>\n",
       "    </tbody>\n",
       "</table>"
      ],
      "text/plain": [
       "[(183779, 21, 65, 'blue', 'blonde', 'female', 'H42W0X', 'Toyota', 'Prius'),\n",
       " (423327, 30, 70, 'brown', 'brown', 'male', '0H42W2', 'Chevrolet', 'Spark LS'),\n",
       " (664760, 21, 71, 'black', 'black', 'male', '4H42WR', 'Nissan', 'Altima')]"
      ]
     },
     "execution_count": 117,
     "metadata": {},
     "output_type": "execute_result"
    }
   ],
   "source": [
    "%sql SELECT * FROM drivers_license WHERE plate_number LIKE '%H42W%'"
   ]
  },
  {
   "cell_type": "markdown",
   "id": "fd3eea26-6977-4304-8f59-a9c8c342d9d1",
   "metadata": {},
   "source": [
    "## Suspect could be from these 3 ids "
   ]
  },
  {
   "cell_type": "code",
   "execution_count": 121,
   "id": "3f1a54fd-b59f-4f4b-a172-f1a84c241d3b",
   "metadata": {},
   "outputs": [
    {
     "name": "stdout",
     "output_type": "stream",
     "text": [
      " * sqlite:///sql-murder-mystery.db\n",
      "Done.\n"
     ]
    },
    {
     "data": {
      "text/html": [
       "<table>\n",
       "    <thead>\n",
       "        <tr>\n",
       "            <th>id</th>\n",
       "            <th>person_id</th>\n",
       "            <th>name</th>\n",
       "            <th>membership_start_date</th>\n",
       "            <th>membership_status</th>\n",
       "        </tr>\n",
       "    </thead>\n",
       "    <tbody>\n",
       "        <tr>\n",
       "            <td>48Z38</td>\n",
       "            <td>49550</td>\n",
       "            <td>Tomas Baisley</td>\n",
       "            <td>20170203</td>\n",
       "            <td>silver</td>\n",
       "        </tr>\n",
       "        <tr>\n",
       "            <td>48Z7A</td>\n",
       "            <td>28819</td>\n",
       "            <td>Joe Germuska</td>\n",
       "            <td>20160305</td>\n",
       "            <td>gold</td>\n",
       "        </tr>\n",
       "        <tr>\n",
       "            <td>48Z55</td>\n",
       "            <td>67318</td>\n",
       "            <td>Jeremy Bowers</td>\n",
       "            <td>20160101</td>\n",
       "            <td>gold</td>\n",
       "        </tr>\n",
       "    </tbody>\n",
       "</table>"
      ],
      "text/plain": [
       "[('48Z38', 49550, 'Tomas Baisley', 20170203, 'silver'),\n",
       " ('48Z7A', 28819, 'Joe Germuska', 20160305, 'gold'),\n",
       " ('48Z55', 67318, 'Jeremy Bowers', 20160101, 'gold')]"
      ]
     },
     "execution_count": 121,
     "metadata": {},
     "output_type": "execute_result"
    }
   ],
   "source": [
    "%sql SELECT * FROM get_fit_now_member where id LIKE '48Z%'"
   ]
  },
  {
   "cell_type": "code",
   "execution_count": 125,
   "id": "da3de16d-7542-480e-ab36-5774a9c0ddc6",
   "metadata": {},
   "outputs": [
    {
     "name": "stdout",
     "output_type": "stream",
     "text": [
      " * sqlite:///sql-murder-mystery.db\n",
      "Done.\n"
     ]
    },
    {
     "data": {
      "text/html": [
       "<table>\n",
       "    <thead>\n",
       "        <tr>\n",
       "            <th>id</th>\n",
       "            <th>person_id</th>\n",
       "            <th>name</th>\n",
       "            <th>membership_start_date</th>\n",
       "            <th>membership_status</th>\n",
       "        </tr>\n",
       "    </thead>\n",
       "    <tbody>\n",
       "    </tbody>\n",
       "</table>"
      ],
      "text/plain": [
       "[]"
      ]
     },
     "execution_count": 125,
     "metadata": {},
     "output_type": "execute_result"
    }
   ],
   "source": [
    "%sql SELECT * FROM get_fit_now_member WHERE person_id IN (183779, 423327, 664760);"
   ]
  },
  {
   "cell_type": "code",
   "execution_count": 129,
   "id": "b651c930-d7fd-48b0-8c41-ead84d5e67e9",
   "metadata": {},
   "outputs": [
    {
     "name": "stdout",
     "output_type": "stream",
     "text": [
      " * sqlite:///sql-murder-mystery.db\n",
      "Done.\n"
     ]
    },
    {
     "data": {
      "text/html": [
       "<table>\n",
       "    <thead>\n",
       "        <tr>\n",
       "            <th>membership_id</th>\n",
       "            <th>check_in_date</th>\n",
       "            <th>check_in_time</th>\n",
       "            <th>check_out_time</th>\n",
       "        </tr>\n",
       "    </thead>\n",
       "    <tbody>\n",
       "        <tr>\n",
       "            <td>48Z7A</td>\n",
       "            <td>20180109</td>\n",
       "            <td>1600</td>\n",
       "            <td>1730</td>\n",
       "        </tr>\n",
       "        <tr>\n",
       "            <td>48Z55</td>\n",
       "            <td>20180109</td>\n",
       "            <td>1530</td>\n",
       "            <td>1700</td>\n",
       "        </tr>\n",
       "    </tbody>\n",
       "</table>"
      ],
      "text/plain": [
       "[('48Z7A', 20180109, 1600, 1730), ('48Z55', 20180109, 1530, 1700)]"
      ]
     },
     "execution_count": 129,
     "metadata": {},
     "output_type": "execute_result"
    }
   ],
   "source": [
    "%sql SELECT * FROM get_fit_now_check_in WHERE check_in_date = 20180109 and membership_id in ('48Z38','48Z7A','48Z55')"
   ]
  },
  {
   "cell_type": "code",
   "execution_count": 131,
   "id": "837ef09c-ac3f-4170-bd5f-5c3d3407caab",
   "metadata": {},
   "outputs": [],
   "source": [
    "#Either 48Z7A or 48Z55 is the killer, lets see how owns the car with licsense plate with H24W"
   ]
  },
  {
   "cell_type": "code",
   "execution_count": 133,
   "id": "37aad4d1-5b1c-47d1-be9f-388cc144fe6a",
   "metadata": {},
   "outputs": [
    {
     "name": "stdout",
     "output_type": "stream",
     "text": [
      " * sqlite:///sql-murder-mystery.db\n",
      "Done.\n"
     ]
    },
    {
     "data": {
      "text/html": [
       "<table>\n",
       "    <thead>\n",
       "        <tr>\n",
       "            <th>id</th>\n",
       "            <th>name</th>\n",
       "            <th>license_id</th>\n",
       "            <th>address_number</th>\n",
       "            <th>address_street_name</th>\n",
       "            <th>ssn</th>\n",
       "        </tr>\n",
       "    </thead>\n",
       "    <tbody>\n",
       "        <tr>\n",
       "            <td>51739</td>\n",
       "            <td>Tushar Chandra</td>\n",
       "            <td>664760</td>\n",
       "            <td>312</td>\n",
       "            <td>Phi St</td>\n",
       "            <td>137882671</td>\n",
       "        </tr>\n",
       "        <tr>\n",
       "            <td>67318</td>\n",
       "            <td>Jeremy Bowers</td>\n",
       "            <td>423327</td>\n",
       "            <td>530</td>\n",
       "            <td>Washington Pl, Apt 3A</td>\n",
       "            <td>871539279</td>\n",
       "        </tr>\n",
       "        <tr>\n",
       "            <td>78193</td>\n",
       "            <td>Maxine Whitely</td>\n",
       "            <td>183779</td>\n",
       "            <td>110</td>\n",
       "            <td>Fisk Rd</td>\n",
       "            <td>137882671</td>\n",
       "        </tr>\n",
       "    </tbody>\n",
       "</table>"
      ],
      "text/plain": [
       "[(51739, 'Tushar Chandra', 664760, 312, 'Phi St', 137882671),\n",
       " (67318, 'Jeremy Bowers', 423327, 530, 'Washington Pl, Apt 3A', 871539279),\n",
       " (78193, 'Maxine Whitely', 183779, 110, 'Fisk Rd', 137882671)]"
      ]
     },
     "execution_count": 133,
     "metadata": {},
     "output_type": "execute_result"
    }
   ],
   "source": [
    "%sql SELECT * FROM person WHERE license_id in (183779,423327,664760)"
   ]
  },
  {
   "cell_type": "code",
   "execution_count": 135,
   "id": "805358bf-905f-4e6e-b34f-8af7c2c70870",
   "metadata": {},
   "outputs": [],
   "source": [
    "# The killer is Jeremy Bowers, however he was Hired !"
   ]
  },
  {
   "cell_type": "code",
   "execution_count": 137,
   "id": "2e571be1-b107-40ff-9e6f-e89985b40476",
   "metadata": {},
   "outputs": [
    {
     "name": "stdout",
     "output_type": "stream",
     "text": [
      " * sqlite:///sql-murder-mystery.db\n",
      "Done.\n"
     ]
    },
    {
     "data": {
      "text/html": [
       "<table>\n",
       "    <thead>\n",
       "        <tr>\n",
       "            <th>person_id</th>\n",
       "            <th>transcript</th>\n",
       "        </tr>\n",
       "    </thead>\n",
       "    <tbody>\n",
       "        <tr>\n",
       "            <td>67318</td>\n",
       "            <td>I was hired by a woman with a lot of money. I don&#x27;t know her name but I know she&#x27;s around 5&#x27;5&quot; (65&quot;) or 5&#x27;7&quot; (67&quot;). She has red hair and she drives a Tesla Model S. I know that she attended the SQL Symphony Concert 3 times in December 2017.<br></td>\n",
       "        </tr>\n",
       "    </tbody>\n",
       "</table>"
      ],
      "text/plain": [
       "[(67318, 'I was hired by a woman with a lot of money. I don\\'t know her name but I know she\\'s around 5\\'5\" (65\") or 5\\'7\" (67\"). She has red hair and she drives a Tesla Model S. I know that she attended the SQL Symphony Concert 3 times in December 2017.\\n')]"
      ]
     },
     "execution_count": 137,
     "metadata": {},
     "output_type": "execute_result"
    }
   ],
   "source": [
    "%sql SELECT * FROM Interview WHERE person_id = 67318 "
   ]
  },
  {
   "cell_type": "code",
   "execution_count": 139,
   "id": "67e4154a-786a-4f79-a25a-3f94db185dc7",
   "metadata": {},
   "outputs": [],
   "source": [
    "# USe clue she attended SQL symphony concert 3 times"
   ]
  },
  {
   "cell_type": "code",
   "execution_count": 141,
   "id": "bcda1933-e78a-4c74-8ed3-4c55781c2c26",
   "metadata": {},
   "outputs": [
    {
     "name": "stdout",
     "output_type": "stream",
     "text": [
      " * sqlite:///sql-murder-mystery.db\n",
      "Done.\n"
     ]
    },
    {
     "data": {
      "text/html": [
       "<table>\n",
       "    <thead>\n",
       "        <tr>\n",
       "            <th>person_id</th>\n",
       "            <th>event_id</th>\n",
       "            <th>event_name</th>\n",
       "            <th>date</th>\n",
       "        </tr>\n",
       "    </thead>\n",
       "    <tbody>\n",
       "        <tr>\n",
       "            <td>24556</td>\n",
       "            <td>1143</td>\n",
       "            <td>SQL Symphony Concert</td>\n",
       "            <td>20171207</td>\n",
       "        </tr>\n",
       "        <tr>\n",
       "            <td>99716</td>\n",
       "            <td>1143</td>\n",
       "            <td>SQL Symphony Concert</td>\n",
       "            <td>20171206</td>\n",
       "        </tr>\n",
       "    </tbody>\n",
       "</table>"
      ],
      "text/plain": [
       "[(24556, 1143, 'SQL Symphony Concert', 20171207),\n",
       " (99716, 1143, 'SQL Symphony Concert', 20171206)]"
      ]
     },
     "execution_count": 141,
     "metadata": {},
     "output_type": "execute_result"
    }
   ],
   "source": [
    "%%sql\n",
    "SELECT * FROM facebook_event_checkin\n",
    "WHERE event_name = 'SQL Symphony Concert' and date LIKE '%12%'\n",
    "GROUP BY person_id \n",
    "HAVING count(*) = 3"
   ]
  },
  {
   "cell_type": "code",
   "execution_count": 151,
   "id": "47b93183-1fb3-4c09-ae98-717ed3639ae9",
   "metadata": {},
   "outputs": [
    {
     "name": "stdout",
     "output_type": "stream",
     "text": [
      " * sqlite:///sql-murder-mystery.db\n",
      "Done.\n"
     ]
    },
    {
     "data": {
      "text/html": [
       "<table>\n",
       "    <thead>\n",
       "        <tr>\n",
       "            <th>id</th>\n",
       "            <th>name</th>\n",
       "            <th>license_id</th>\n",
       "            <th>address_number</th>\n",
       "            <th>address_street_name</th>\n",
       "            <th>ssn</th>\n",
       "        </tr>\n",
       "    </thead>\n",
       "    <tbody>\n",
       "        <tr>\n",
       "            <td>24556</td>\n",
       "            <td>Bryan Pardo</td>\n",
       "            <td>101191</td>\n",
       "            <td>703</td>\n",
       "            <td>Machine Ln</td>\n",
       "            <td>816663882</td>\n",
       "        </tr>\n",
       "        <tr>\n",
       "            <td>99716</td>\n",
       "            <td>Miranda Priestly</td>\n",
       "            <td>202298</td>\n",
       "            <td>1883</td>\n",
       "            <td>Golden Ave</td>\n",
       "            <td>987756388</td>\n",
       "        </tr>\n",
       "    </tbody>\n",
       "</table>"
      ],
      "text/plain": [
       "[(24556, 'Bryan Pardo', 101191, 703, 'Machine Ln', 816663882),\n",
       " (99716, 'Miranda Priestly', 202298, 1883, 'Golden Ave', 987756388)]"
      ]
     },
     "execution_count": 151,
     "metadata": {},
     "output_type": "execute_result"
    }
   ],
   "source": [
    "%sql SELECT * FROM PERSON WHERE id in (24556,99716)"
   ]
  },
  {
   "cell_type": "code",
   "execution_count": 159,
   "id": "5d0d401a-97b6-4c0d-bd34-7491450608c2",
   "metadata": {},
   "outputs": [
    {
     "name": "stdout",
     "output_type": "stream",
     "text": [
      " * sqlite:///sql-murder-mystery.db\n",
      "Done.\n"
     ]
    },
    {
     "data": {
      "text/html": [
       "<table>\n",
       "    <thead>\n",
       "        <tr>\n",
       "            <th>id</th>\n",
       "            <th>age</th>\n",
       "            <th>height</th>\n",
       "            <th>eye_color</th>\n",
       "            <th>hair_color</th>\n",
       "            <th>gender</th>\n",
       "            <th>plate_number</th>\n",
       "            <th>car_make</th>\n",
       "            <th>car_model</th>\n",
       "        </tr>\n",
       "    </thead>\n",
       "    <tbody>\n",
       "        <tr>\n",
       "            <td>202298</td>\n",
       "            <td>68</td>\n",
       "            <td>66</td>\n",
       "            <td>green</td>\n",
       "            <td>red</td>\n",
       "            <td>female</td>\n",
       "            <td>500123</td>\n",
       "            <td>Tesla</td>\n",
       "            <td>Model S</td>\n",
       "        </tr>\n",
       "    </tbody>\n",
       "</table>"
      ],
      "text/plain": [
       "[(202298, 68, 66, 'green', 'red', 'female', '500123', 'Tesla', 'Model S')]"
      ]
     },
     "execution_count": 159,
     "metadata": {},
     "output_type": "execute_result"
    }
   ],
   "source": [
    "%sql SELECT * FROM drivers_license where id in (101191,202298)"
   ]
  },
  {
   "cell_type": "code",
   "execution_count": null,
   "id": "3b2eef7e-bbbb-47ae-882f-307acfc912cc",
   "metadata": {},
   "outputs": [],
   "source": [
    "#Mitanda Priestly the master mind"
   ]
  }
 ],
 "metadata": {
  "kernelspec": {
   "display_name": "Python 3 (ipykernel)",
   "language": "python",
   "name": "python3"
  },
  "language_info": {
   "codemirror_mode": {
    "name": "ipython",
    "version": 3
   },
   "file_extension": ".py",
   "mimetype": "text/x-python",
   "name": "python",
   "nbconvert_exporter": "python",
   "pygments_lexer": "ipython3",
   "version": "3.12.3"
  }
 },
 "nbformat": 4,
 "nbformat_minor": 5
}
